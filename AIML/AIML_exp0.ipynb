{
 "cells": [
  {
   "cell_type": "markdown",
   "metadata": {},
   "source": [
    "Task 1"
   ]
  },
  {
   "cell_type": "code",
   "execution_count": 77,
   "metadata": {},
   "outputs": [
    {
     "name": "stdout",
     "output_type": "stream",
     "text": [
      "Requirement already satisfied: pandas in c:\\users\\sahil\\appdata\\local\\programs\\python\\python38\\lib\\site-packages (2.0.3)\n",
      "Requirement already satisfied: python-dateutil>=2.8.2 in c:\\users\\sahil\\appdata\\roaming\\python\\python38\\site-packages (from pandas) (2.9.0.post0)\n",
      "Requirement already satisfied: pytz>=2020.1 in c:\\users\\sahil\\appdata\\local\\programs\\python\\python38\\lib\\site-packages (from pandas) (2024.1)\n",
      "Requirement already satisfied: numpy>=1.20.3 in c:\\users\\sahil\\appdata\\local\\programs\\python\\python38\\lib\\site-packages (from pandas) (1.24.4)\n",
      "Requirement already satisfied: tzdata>=2022.1 in c:\\users\\sahil\\appdata\\local\\programs\\python\\python38\\lib\\site-packages (from pandas) (2022.7)\n",
      "Requirement already satisfied: six>=1.5 in c:\\users\\sahil\\appdata\\roaming\\python\\python38\\site-packages (from python-dateutil>=2.8.2->pandas) (1.16.0)\n",
      "Note: you may need to restart the kernel to use updated packages.\n"
     ]
    },
    {
     "name": "stderr",
     "output_type": "stream",
     "text": [
      "WARNING: You are using pip version 21.1.1; however, version 24.2 is available.\n",
      "You should consider upgrading via the 'c:\\Users\\sahil\\AppData\\Local\\Programs\\Python\\Python38\\python.exe -m pip install --upgrade pip' command.\n"
     ]
    },
    {
     "name": "stdout",
     "output_type": "stream",
     "text": [
      "Note: you may need to restart the kernel to use updated packages.Requirement already satisfied: openpyxl in c:\\users\\sahil\\appdata\\local\\programs\\python\\python38\\lib\\site-packages (3.1.5)\n",
      "Requirement already satisfied: et-xmlfile in c:\\users\\sahil\\appdata\\local\\programs\\python\\python38\\lib\\site-packages (from openpyxl) (1.1.0)\n",
      "\n"
     ]
    },
    {
     "name": "stderr",
     "output_type": "stream",
     "text": [
      "WARNING: You are using pip version 21.1.1; however, version 24.2 is available.\n",
      "You should consider upgrading via the 'c:\\Users\\sahil\\AppData\\Local\\Programs\\Python\\Python38\\python.exe -m pip install --upgrade pip' command.\n"
     ]
    }
   ],
   "source": [
    "\n",
    "%pip install pandas\n",
    "%pip install openpyxl\n",
    "import pandas as pd"
   ]
  },
  {
   "cell_type": "code",
   "execution_count": 78,
   "metadata": {},
   "outputs": [],
   "source": [
    "df_cric = pd.read_excel(\"Cricket.xlsx\")\n",
    "df_hoc = pd.read_excel(\"Hockey.xlsx\")\n",
    "df_voll = pd.read_csv(\"Volleyball.csv\")\n",
    "master_df = pd.read_excel(\"Master_data_excel (1).xlsx\")"
   ]
  },
  {
   "cell_type": "code",
   "execution_count": 79,
   "metadata": {},
   "outputs": [],
   "source": [
    "hoc_head = df_hoc.head(10)"
   ]
  },
  {
   "cell_type": "code",
   "execution_count": 80,
   "metadata": {},
   "outputs": [
    {
     "data": {
      "text/html": [
       "<div>\n",
       "<style scoped>\n",
       "    .dataframe tbody tr th:only-of-type {\n",
       "        vertical-align: middle;\n",
       "    }\n",
       "\n",
       "    .dataframe tbody tr th {\n",
       "        vertical-align: top;\n",
       "    }\n",
       "\n",
       "    .dataframe thead th {\n",
       "        text-align: right;\n",
       "    }\n",
       "</style>\n",
       "<table border=\"1\" class=\"dataframe\">\n",
       "  <thead>\n",
       "    <tr style=\"text-align: right;\">\n",
       "      <th></th>\n",
       "      <th>ID</th>\n",
       "      <th>NAME</th>\n",
       "      <th>LOCATION</th>\n",
       "      <th>DEPT</th>\n",
       "      <th>AGE</th>\n",
       "    </tr>\n",
       "  </thead>\n",
       "  <tbody>\n",
       "    <tr>\n",
       "      <th>0</th>\n",
       "      <td>A002</td>\n",
       "      <td>BHAVESH BALDANIYA</td>\n",
       "      <td>Delhi</td>\n",
       "      <td>technology</td>\n",
       "      <td>35</td>\n",
       "    </tr>\n",
       "    <tr>\n",
       "      <th>1</th>\n",
       "      <td>A003</td>\n",
       "      <td>YASH BAVISHI</td>\n",
       "      <td>Delhi</td>\n",
       "      <td>production</td>\n",
       "      <td>22</td>\n",
       "    </tr>\n",
       "    <tr>\n",
       "      <th>2</th>\n",
       "      <td>A004</td>\n",
       "      <td>SHREEKARA BHAT</td>\n",
       "      <td>Indore</td>\n",
       "      <td>sales</td>\n",
       "      <td>34</td>\n",
       "    </tr>\n",
       "    <tr>\n",
       "      <th>3</th>\n",
       "      <td>A005</td>\n",
       "      <td>KUNAL BHATT</td>\n",
       "      <td>Mumbai</td>\n",
       "      <td>technology</td>\n",
       "      <td>31</td>\n",
       "    </tr>\n",
       "    <tr>\n",
       "      <th>4</th>\n",
       "      <td>A013</td>\n",
       "      <td>ANIKET GAMI</td>\n",
       "      <td>Indore</td>\n",
       "      <td>production</td>\n",
       "      <td>42</td>\n",
       "    </tr>\n",
       "    <tr>\n",
       "      <th>5</th>\n",
       "      <td>A014</td>\n",
       "      <td>RAHUL GIMHAVANEKAR</td>\n",
       "      <td>Delhi</td>\n",
       "      <td>production</td>\n",
       "      <td>27</td>\n",
       "    </tr>\n",
       "    <tr>\n",
       "      <th>6</th>\n",
       "      <td>A016</td>\n",
       "      <td>YOSUFF HUSSAIN</td>\n",
       "      <td>Pune</td>\n",
       "      <td>sales</td>\n",
       "      <td>29</td>\n",
       "    </tr>\n",
       "    <tr>\n",
       "      <th>7</th>\n",
       "      <td>A018</td>\n",
       "      <td>ISHWAR IYER</td>\n",
       "      <td>Delhi</td>\n",
       "      <td>production</td>\n",
       "      <td>29</td>\n",
       "    </tr>\n",
       "    <tr>\n",
       "      <th>8</th>\n",
       "      <td>A019</td>\n",
       "      <td>ATHARVA KADAM</td>\n",
       "      <td>Indore</td>\n",
       "      <td>marketing</td>\n",
       "      <td>28</td>\n",
       "    </tr>\n",
       "    <tr>\n",
       "      <th>9</th>\n",
       "      <td>A021</td>\n",
       "      <td>KARAN KAMAT</td>\n",
       "      <td>Pune</td>\n",
       "      <td>technology</td>\n",
       "      <td>44</td>\n",
       "    </tr>\n",
       "  </tbody>\n",
       "</table>\n",
       "</div>"
      ],
      "text/plain": [
       "     ID                NAME LOCATION        DEPT  AGE\n",
       "0  A002   BHAVESH BALDANIYA    Delhi  technology   35\n",
       "1  A003        YASH BAVISHI    Delhi  production   22\n",
       "2  A004      SHREEKARA BHAT   Indore       sales   34\n",
       "3  A005         KUNAL BHATT   Mumbai  technology   31\n",
       "4  A013         ANIKET GAMI   Indore  production   42\n",
       "5  A014  RAHUL GIMHAVANEKAR    Delhi  production   27\n",
       "6  A016      YOSUFF HUSSAIN     Pune       sales   29\n",
       "7  A018         ISHWAR IYER    Delhi  production   29\n",
       "8  A019       ATHARVA KADAM   Indore   marketing   28\n",
       "9  A021         KARAN KAMAT     Pune  technology   44"
      ]
     },
     "execution_count": 80,
     "metadata": {},
     "output_type": "execute_result"
    }
   ],
   "source": [
    "hoc_head"
   ]
  },
  {
   "cell_type": "code",
   "execution_count": 81,
   "metadata": {},
   "outputs": [],
   "source": [
    "master_head = master_df.head(10)"
   ]
  },
  {
   "cell_type": "code",
   "execution_count": 82,
   "metadata": {},
   "outputs": [
    {
     "data": {
      "text/html": [
       "<div>\n",
       "<style scoped>\n",
       "    .dataframe tbody tr th:only-of-type {\n",
       "        vertical-align: middle;\n",
       "    }\n",
       "\n",
       "    .dataframe tbody tr th {\n",
       "        vertical-align: top;\n",
       "    }\n",
       "\n",
       "    .dataframe thead th {\n",
       "        text-align: right;\n",
       "    }\n",
       "</style>\n",
       "<table border=\"1\" class=\"dataframe\">\n",
       "  <thead>\n",
       "    <tr style=\"text-align: right;\">\n",
       "      <th></th>\n",
       "      <th>ID</th>\n",
       "      <th>NAME</th>\n",
       "      <th>LOCATION</th>\n",
       "      <th>DEPT</th>\n",
       "      <th>AGE</th>\n",
       "    </tr>\n",
       "  </thead>\n",
       "  <tbody>\n",
       "    <tr>\n",
       "      <th>0</th>\n",
       "      <td>A001</td>\n",
       "      <td>HARTEJ SINGH ASSI</td>\n",
       "      <td>Mumbai</td>\n",
       "      <td>sales</td>\n",
       "      <td>23</td>\n",
       "    </tr>\n",
       "    <tr>\n",
       "      <th>1</th>\n",
       "      <td>A002</td>\n",
       "      <td>BHAVESH BALDANIYA</td>\n",
       "      <td>Delhi</td>\n",
       "      <td>technology</td>\n",
       "      <td>35</td>\n",
       "    </tr>\n",
       "    <tr>\n",
       "      <th>2</th>\n",
       "      <td>A003</td>\n",
       "      <td>YASH BAVISHI</td>\n",
       "      <td>Delhi</td>\n",
       "      <td>production</td>\n",
       "      <td>22</td>\n",
       "    </tr>\n",
       "    <tr>\n",
       "      <th>3</th>\n",
       "      <td>A004</td>\n",
       "      <td>SHREEKARA BHAT</td>\n",
       "      <td>Indore</td>\n",
       "      <td>sales</td>\n",
       "      <td>34</td>\n",
       "    </tr>\n",
       "    <tr>\n",
       "      <th>4</th>\n",
       "      <td>A005</td>\n",
       "      <td>KUNAL BHATT</td>\n",
       "      <td>Mumbai</td>\n",
       "      <td>technology</td>\n",
       "      <td>31</td>\n",
       "    </tr>\n",
       "    <tr>\n",
       "      <th>5</th>\n",
       "      <td>A006</td>\n",
       "      <td>DARRYL CARDOZA</td>\n",
       "      <td>Mumbai</td>\n",
       "      <td>production</td>\n",
       "      <td>26</td>\n",
       "    </tr>\n",
       "    <tr>\n",
       "      <th>6</th>\n",
       "      <td>A007</td>\n",
       "      <td>SURESH CHAUDHARY</td>\n",
       "      <td>Delhi</td>\n",
       "      <td>sales</td>\n",
       "      <td>28</td>\n",
       "    </tr>\n",
       "    <tr>\n",
       "      <th>7</th>\n",
       "      <td>A009</td>\n",
       "      <td>CHIRAG CHOUDHARY</td>\n",
       "      <td>Pune</td>\n",
       "      <td>sales</td>\n",
       "      <td>40</td>\n",
       "    </tr>\n",
       "    <tr>\n",
       "      <th>8</th>\n",
       "      <td>A010</td>\n",
       "      <td>YASH CHOWDHARI</td>\n",
       "      <td>Delhi</td>\n",
       "      <td>technology</td>\n",
       "      <td>45</td>\n",
       "    </tr>\n",
       "    <tr>\n",
       "      <th>9</th>\n",
       "      <td>A011</td>\n",
       "      <td>MIHIR DHANGDHARIYA</td>\n",
       "      <td>Mumbai</td>\n",
       "      <td>technology</td>\n",
       "      <td>33</td>\n",
       "    </tr>\n",
       "  </tbody>\n",
       "</table>\n",
       "</div>"
      ],
      "text/plain": [
       "     ID                NAME LOCATION        DEPT  AGE\n",
       "0  A001   HARTEJ SINGH ASSI   Mumbai       sales   23\n",
       "1  A002   BHAVESH BALDANIYA    Delhi  technology   35\n",
       "2  A003        YASH BAVISHI    Delhi  production   22\n",
       "3  A004      SHREEKARA BHAT   Indore       sales   34\n",
       "4  A005         KUNAL BHATT   Mumbai  technology   31\n",
       "5  A006      DARRYL CARDOZA   Mumbai  production   26\n",
       "6  A007    SURESH CHAUDHARY    Delhi       sales   28\n",
       "7  A009    CHIRAG CHOUDHARY     Pune       sales   40\n",
       "8  A010      YASH CHOWDHARI    Delhi  technology   45\n",
       "9  A011  MIHIR DHANGDHARIYA   Mumbai  technology   33"
      ]
     },
     "execution_count": 82,
     "metadata": {},
     "output_type": "execute_result"
    }
   ],
   "source": [
    "master_head"
   ]
  },
  {
   "cell_type": "code",
   "execution_count": 83,
   "metadata": {},
   "outputs": [],
   "source": [
    "marter_dict = master_df.to_dict(\"index\")"
   ]
  },
  {
   "cell_type": "code",
   "execution_count": 84,
   "metadata": {},
   "outputs": [
    {
     "data": {
      "text/plain": [
       "{0: {'ID': 'A001',\n",
       "  'NAME': 'HARTEJ SINGH ASSI',\n",
       "  'LOCATION': 'Mumbai',\n",
       "  'DEPT': 'sales',\n",
       "  'AGE': 23},\n",
       " 1: {'ID': 'A002',\n",
       "  'NAME': 'BHAVESH BALDANIYA',\n",
       "  'LOCATION': 'Delhi',\n",
       "  'DEPT': 'technology',\n",
       "  'AGE': 35},\n",
       " 2: {'ID': 'A003',\n",
       "  'NAME': 'YASH BAVISHI',\n",
       "  'LOCATION': 'Delhi',\n",
       "  'DEPT': 'production',\n",
       "  'AGE': 22},\n",
       " 3: {'ID': 'A004',\n",
       "  'NAME': 'SHREEKARA BHAT',\n",
       "  'LOCATION': 'Indore',\n",
       "  'DEPT': 'sales',\n",
       "  'AGE': 34},\n",
       " 4: {'ID': 'A005',\n",
       "  'NAME': 'KUNAL BHATT',\n",
       "  'LOCATION': 'Mumbai',\n",
       "  'DEPT': 'technology',\n",
       "  'AGE': 31},\n",
       " 5: {'ID': 'A006',\n",
       "  'NAME': 'DARRYL CARDOZA',\n",
       "  'LOCATION': 'Mumbai',\n",
       "  'DEPT': 'production',\n",
       "  'AGE': 26},\n",
       " 6: {'ID': 'A007',\n",
       "  'NAME': 'SURESH CHAUDHARY',\n",
       "  'LOCATION': 'Delhi',\n",
       "  'DEPT': 'sales',\n",
       "  'AGE': 28},\n",
       " 7: {'ID': 'A009',\n",
       "  'NAME': 'CHIRAG CHOUDHARY',\n",
       "  'LOCATION': 'Pune',\n",
       "  'DEPT': 'sales',\n",
       "  'AGE': 40},\n",
       " 8: {'ID': 'A010',\n",
       "  'NAME': 'YASH CHOWDHARI',\n",
       "  'LOCATION': 'Delhi',\n",
       "  'DEPT': 'technology',\n",
       "  'AGE': 45},\n",
       " 9: {'ID': 'A011',\n",
       "  'NAME': 'MIHIR DHANGDHARIYA',\n",
       "  'LOCATION': 'Mumbai',\n",
       "  'DEPT': 'technology',\n",
       "  'AGE': 33},\n",
       " 10: {'ID': 'A012',\n",
       "  'NAME': 'SANKET GADGE',\n",
       "  'LOCATION': 'Pune',\n",
       "  'DEPT': 'marketing',\n",
       "  'AGE': 33},\n",
       " 11: {'ID': 'A013',\n",
       "  'NAME': 'ANIKET GAMI',\n",
       "  'LOCATION': 'Indore',\n",
       "  'DEPT': 'production',\n",
       "  'AGE': 42},\n",
       " 12: {'ID': 'A014',\n",
       "  'NAME': 'RAHUL GIMHAVANEKAR',\n",
       "  'LOCATION': 'Delhi',\n",
       "  'DEPT': 'production',\n",
       "  'AGE': 27},\n",
       " 13: {'ID': 'A015',\n",
       "  'NAME': 'ANAMICA GUPTA',\n",
       "  'LOCATION': 'Mumbai',\n",
       "  'DEPT': 'sales',\n",
       "  'AGE': 27},\n",
       " 14: {'ID': 'A016',\n",
       "  'NAME': 'YOSUFF HUSSAIN',\n",
       "  'LOCATION': 'Pune',\n",
       "  'DEPT': 'sales',\n",
       "  'AGE': 29},\n",
       " 15: {'ID': 'A017',\n",
       "  'NAME': 'AGHA AYAAN HYDER',\n",
       "  'LOCATION': 'Pune',\n",
       "  'DEPT': 'production',\n",
       "  'AGE': 22},\n",
       " 16: {'ID': 'A018',\n",
       "  'NAME': 'ISHWAR IYER',\n",
       "  'LOCATION': 'Delhi',\n",
       "  'DEPT': 'production',\n",
       "  'AGE': 29},\n",
       " 17: {'ID': 'A019',\n",
       "  'NAME': 'ATHARVA KADAM',\n",
       "  'LOCATION': 'Indore',\n",
       "  'DEPT': 'marketing',\n",
       "  'AGE': 28},\n",
       " 18: {'ID': 'A020',\n",
       "  'NAME': 'RIYA KADAM',\n",
       "  'LOCATION': 'Mumbai',\n",
       "  'DEPT': 'marketing',\n",
       "  'AGE': 34},\n",
       " 19: {'ID': 'A021',\n",
       "  'NAME': 'KARAN KAMAT',\n",
       "  'LOCATION': 'Pune',\n",
       "  'DEPT': 'technology',\n",
       "  'AGE': 44},\n",
       " 20: {'ID': 'A022',\n",
       "  'NAME': 'RAHAT JAHA KHAN',\n",
       "  'LOCATION': 'Mumbai',\n",
       "  'DEPT': 'sales',\n",
       "  'AGE': 47},\n",
       " 21: {'ID': 'A024',\n",
       "  'NAME': 'HARIKRISHNAN KONGIPARAMBIL',\n",
       "  'LOCATION': 'Nagpur',\n",
       "  'DEPT': 'sales',\n",
       "  'AGE': 41},\n",
       " 22: {'ID': 'A025',\n",
       "  'NAME': 'HARSH KOTHARE',\n",
       "  'LOCATION': 'Mumbai',\n",
       "  'DEPT': 'production',\n",
       "  'AGE': 36},\n",
       " 23: {'ID': 'A026',\n",
       "  'NAME': 'NIDHI MADNANI',\n",
       "  'LOCATION': 'Hydrabad',\n",
       "  'DEPT': 'technology',\n",
       "  'AGE': 38},\n",
       " 24: {'ID': 'A027',\n",
       "  'NAME': 'NETRA MAHADIK',\n",
       "  'LOCATION': 'Mumbai',\n",
       "  'DEPT': 'technology',\n",
       "  'AGE': 38},\n",
       " 25: {'ID': 'A028',\n",
       "  'NAME': 'KUNAL MAHAJAN',\n",
       "  'LOCATION': 'Indore',\n",
       "  'DEPT': 'sales',\n",
       "  'AGE': 38},\n",
       " 26: {'ID': 'A030',\n",
       "  'NAME': 'AZRIEL MENDES',\n",
       "  'LOCATION': 'Pune',\n",
       "  'DEPT': 'production',\n",
       "  'AGE': 48},\n",
       " 27: {'ID': 'A031',\n",
       "  'NAME': 'ADITYA MENON',\n",
       "  'LOCATION': 'Hydrabad',\n",
       "  'DEPT': 'production',\n",
       "  'AGE': 43},\n",
       " 28: {'ID': 'A032',\n",
       "  'NAME': 'ISHANT MISHRA',\n",
       "  'LOCATION': 'Indore',\n",
       "  'DEPT': 'marketing',\n",
       "  'AGE': 24},\n",
       " 29: {'ID': 'A033',\n",
       "  'NAME': 'PARAG MORE',\n",
       "  'LOCATION': 'Mumbai',\n",
       "  'DEPT': 'production',\n",
       "  'AGE': 24},\n",
       " 30: {'ID': 'A034',\n",
       "  'NAME': 'ARCHIT MUNI',\n",
       "  'LOCATION': 'Hydrabad',\n",
       "  'DEPT': 'technology',\n",
       "  'AGE': 26},\n",
       " 31: {'ID': 'A035',\n",
       "  'NAME': 'MOHAMMAD NEDARIYA',\n",
       "  'LOCATION': 'Mumbai',\n",
       "  'DEPT': 'marketing',\n",
       "  'AGE': 29},\n",
       " 32: {'ID': 'A036',\n",
       "  'NAME': 'SUYASH NIGAM',\n",
       "  'LOCATION': 'Indore',\n",
       "  'DEPT': 'marketing',\n",
       "  'AGE': 29},\n",
       " 33: {'ID': 'A037',\n",
       "  'NAME': 'AMEY NIMBALKAR',\n",
       "  'LOCATION': 'Pune',\n",
       "  'DEPT': 'marketing',\n",
       "  'AGE': 35},\n",
       " 34: {'ID': 'A038',\n",
       "  'NAME': 'DHRUMIL OZA',\n",
       "  'LOCATION': 'Delhi',\n",
       "  'DEPT': 'technology',\n",
       "  'AGE': 36},\n",
       " 35: {'ID': 'A039',\n",
       "  'NAME': 'HEMISH PADHIYAR',\n",
       "  'LOCATION': 'Delhi',\n",
       "  'DEPT': 'sales',\n",
       "  'AGE': 38},\n",
       " 36: {'ID': 'A040',\n",
       "  'NAME': 'KRISHNA PALAN',\n",
       "  'LOCATION': 'Hydrabad',\n",
       "  'DEPT': 'sales',\n",
       "  'AGE': 38},\n",
       " 37: {'ID': 'A042',\n",
       "  'NAME': 'PARTH SURVE',\n",
       "  'LOCATION': 'Delhi',\n",
       "  'DEPT': 'technology',\n",
       "  'AGE': 40},\n",
       " 38: {'ID': 'A043',\n",
       "  'NAME': 'YASHUVARDHAN PATEL',\n",
       "  'LOCATION': 'Pune',\n",
       "  'DEPT': 'sales',\n",
       "  'AGE': 40},\n",
       " 39: {'ID': 'A044',\n",
       "  'NAME': 'PRASHANT POOJARY',\n",
       "  'LOCATION': 'Mumbai',\n",
       "  'DEPT': 'production',\n",
       "  'AGE': 35},\n",
       " 40: {'ID': 'A045',\n",
       "  'NAME': 'MUDIT POTDAR',\n",
       "  'LOCATION': 'Nagpur',\n",
       "  'DEPT': 'technology',\n",
       "  'AGE': 37},\n",
       " 41: {'ID': 'A046',\n",
       "  'NAME': 'PRASAD SANGALE',\n",
       "  'LOCATION': 'Indore',\n",
       "  'DEPT': 'sales',\n",
       "  'AGE': 32},\n",
       " 42: {'ID': 'A047',\n",
       "  'NAME': 'PAYAL SANKHLA',\n",
       "  'LOCATION': 'Delhi',\n",
       "  'DEPT': 'marketing',\n",
       "  'AGE': 31},\n",
       " 43: {'ID': 'A048',\n",
       "  'NAME': 'MIHIR SAWANT',\n",
       "  'LOCATION': 'Nagpur',\n",
       "  'DEPT': 'marketing',\n",
       "  'AGE': 30},\n",
       " 44: {'ID': 'A049',\n",
       "  'NAME': 'JAINIL SHAH',\n",
       "  'LOCATION': 'Delhi',\n",
       "  'DEPT': 'technology',\n",
       "  'AGE': 30},\n",
       " 45: {'ID': 'A050',\n",
       "  'NAME': 'NEHA SHAH',\n",
       "  'LOCATION': 'Nagpur',\n",
       "  'DEPT': 'production',\n",
       "  'AGE': 29},\n",
       " 46: {'ID': 'A052',\n",
       "  'NAME': 'AFRAZ SHAIKH',\n",
       "  'LOCATION': 'Indore',\n",
       "  'DEPT': 'sales',\n",
       "  'AGE': 27},\n",
       " 47: {'ID': 'A053',\n",
       "  'NAME': 'HUSSAIN SHAIKH',\n",
       "  'LOCATION': 'Nagpur',\n",
       "  'DEPT': 'sales',\n",
       "  'AGE': 23},\n",
       " 48: {'ID': 'A054',\n",
       "  'NAME': 'ABHISHEK SHARMA',\n",
       "  'LOCATION': 'Delhi',\n",
       "  'DEPT': 'marketing',\n",
       "  'AGE': 29},\n",
       " 49: {'ID': 'A055',\n",
       "  'NAME': 'CHAYAN SHARMA',\n",
       "  'LOCATION': 'Pune',\n",
       "  'DEPT': 'technology',\n",
       "  'AGE': 36},\n",
       " 50: {'ID': 'A056',\n",
       "  'NAME': 'DIVYANG SHETH',\n",
       "  'LOCATION': 'Mumbai',\n",
       "  'DEPT': 'marketing',\n",
       "  'AGE': 36},\n",
       " 51: {'ID': 'A057',\n",
       "  'NAME': 'MADHURAM SHUKLA',\n",
       "  'LOCATION': 'Nagpur',\n",
       "  'DEPT': 'marketing',\n",
       "  'AGE': 37},\n",
       " 52: {'ID': 'A058',\n",
       "  'NAME': 'ANMOL SINHA',\n",
       "  'LOCATION': 'Delhi',\n",
       "  'DEPT': 'production',\n",
       "  'AGE': 49},\n",
       " 53: {'ID': 'A059',\n",
       "  'NAME': 'TUSHAR SINHA',\n",
       "  'LOCATION': 'Indore',\n",
       "  'DEPT': 'technology',\n",
       "  'AGE': 33},\n",
       " 54: {'ID': 'A061',\n",
       "  'NAME': 'KRITI THAKRAR',\n",
       "  'LOCATION': 'Mumbai',\n",
       "  'DEPT': 'production',\n",
       "  'AGE': 24},\n",
       " 55: {'ID': 'A062',\n",
       "  'NAME': 'HARSHIT THAPAR',\n",
       "  'LOCATION': 'Nagpur',\n",
       "  'DEPT': 'marketing',\n",
       "  'AGE': 35},\n",
       " 56: {'ID': 'A063',\n",
       "  'NAME': 'ABHAY TIWARI',\n",
       "  'LOCATION': 'Mumbai',\n",
       "  'DEPT': 'sales',\n",
       "  'AGE': 33},\n",
       " 57: {'ID': 'A064',\n",
       "  'NAME': 'TULSI VAIDYA',\n",
       "  'LOCATION': 'Pune',\n",
       "  'DEPT': 'marketing',\n",
       "  'AGE': 33},\n",
       " 58: {'ID': 'A065',\n",
       "  'NAME': 'SHUBHAM WANI',\n",
       "  'LOCATION': 'Indore',\n",
       "  'DEPT': 'technology',\n",
       "  'AGE': 38},\n",
       " 59: {'ID': 'A066',\n",
       "  'NAME': 'SHAYAN ZAIDI',\n",
       "  'LOCATION': 'Mumbai',\n",
       "  'DEPT': 'technology',\n",
       "  'AGE': 37},\n",
       " 60: {'ID': 'A067',\n",
       "  'NAME': 'NIDHI AGRAWAL',\n",
       "  'LOCATION': 'Mumbai',\n",
       "  'DEPT': 'marketing',\n",
       "  'AGE': 49},\n",
       " 61: {'ID': 'L002',\n",
       "  'NAME': 'OM AGRAWAL',\n",
       "  'LOCATION': 'Nagpur',\n",
       "  'DEPT': 'production',\n",
       "  'AGE': 30},\n",
       " 62: {'ID': 'L003',\n",
       "  'NAME': 'VANSHAJ AJMERA',\n",
       "  'LOCATION': 'Nagpur',\n",
       "  'DEPT': 'marketing',\n",
       "  'AGE': 30},\n",
       " 63: {'ID': 'L005',\n",
       "  'NAME': 'RAHUL BHATT',\n",
       "  'LOCATION': 'Mumbai',\n",
       "  'DEPT': 'marketing',\n",
       "  'AGE': 29},\n",
       " 64: {'ID': 'L007',\n",
       "  'NAME': 'DHRUV CHAUHAN',\n",
       "  'LOCATION': 'Mumbai',\n",
       "  'DEPT': 'sales',\n",
       "  'AGE': 27},\n",
       " 65: {'ID': 'L008',\n",
       "  'NAME': 'ISHA GHATULE',\n",
       "  'LOCATION': 'Pune',\n",
       "  'DEPT': 'sales',\n",
       "  'AGE': 23},\n",
       " 66: {'ID': 'L011',\n",
       "  'NAME': 'ADITYA JAIN',\n",
       "  'LOCATION': 'Pune',\n",
       "  'DEPT': 'production',\n",
       "  'AGE': 29},\n",
       " 67: {'ID': 'L013',\n",
       "  'NAME': 'VEDIKA KHANDELWAL',\n",
       "  'LOCATION': 'Mumbai',\n",
       "  'DEPT': 'technology',\n",
       "  'AGE': 36},\n",
       " 68: {'ID': 'L014',\n",
       "  'NAME': 'ADITYA LAD',\n",
       "  'LOCATION': 'Nagpur',\n",
       "  'DEPT': 'marketing',\n",
       "  'AGE': 36},\n",
       " 69: {'ID': 'L016',\n",
       "  'NAME': 'ANAY MAHESHWARI',\n",
       "  'LOCATION': 'Indore',\n",
       "  'DEPT': 'sales',\n",
       "  'AGE': 37},\n",
       " 70: {'ID': 'L017',\n",
       "  'NAME': 'SANJANA MEHTA',\n",
       "  'LOCATION': 'Indore',\n",
       "  'DEPT': 'technology',\n",
       "  'AGE': 49},\n",
       " 71: {'ID': 'L019',\n",
       "  'NAME': 'RHEA NAIR',\n",
       "  'LOCATION': 'Pune',\n",
       "  'DEPT': 'technology',\n",
       "  'AGE': 33},\n",
       " 72: {'ID': 'L020',\n",
       "  'NAME': 'KAVIT NAVADIA',\n",
       "  'LOCATION': 'Mumbai',\n",
       "  'DEPT': 'marketing',\n",
       "  'AGE': 24},\n",
       " 73: {'ID': 'L021',\n",
       "  'NAME': 'ABHAY PAI',\n",
       "  'LOCATION': 'Indore',\n",
       "  'DEPT': 'marketing',\n",
       "  'AGE': 35},\n",
       " 74: {'ID': 'L022',\n",
       "  'NAME': 'SHUBH PATEL',\n",
       "  'LOCATION': 'Pune',\n",
       "  'DEPT': 'sales',\n",
       "  'AGE': 33},\n",
       " 75: {'ID': 'L023',\n",
       "  'NAME': 'CHAITANYA PATEL',\n",
       "  'LOCATION': 'Mumbai',\n",
       "  'DEPT': 'production',\n",
       "  'AGE': 33},\n",
       " 76: {'ID': 'L024',\n",
       "  'NAME': 'GRASHI PATEL',\n",
       "  'LOCATION': 'Mumbai',\n",
       "  'DEPT': 'technology',\n",
       "  'AGE': 38},\n",
       " 77: {'ID': 'L027',\n",
       "  'NAME': 'SHARDUL PATKI',\n",
       "  'LOCATION': 'Mumbai',\n",
       "  'DEPT': 'marketing',\n",
       "  'AGE': 37},\n",
       " 78: {'ID': 'L029',\n",
       "  'NAME': 'MAYUR PAWAR',\n",
       "  'LOCATION': 'Indore',\n",
       "  'DEPT': 'sales',\n",
       "  'AGE': 49},\n",
       " 79: {'ID': 'L030',\n",
       "  'NAME': 'PRIYANSH PRADHAN',\n",
       "  'LOCATION': 'Pune',\n",
       "  'DEPT': 'sales',\n",
       "  'AGE': 24},\n",
       " 80: {'ID': 'L033',\n",
       "  'NAME': 'VISHALSINH RANA',\n",
       "  'LOCATION': 'Pune',\n",
       "  'DEPT': 'production',\n",
       "  'AGE': 35},\n",
       " 81: {'ID': 'L034',\n",
       "  'NAME': 'SHARMAD SAMANT',\n",
       "  'LOCATION': 'Indore',\n",
       "  'DEPT': 'production',\n",
       "  'AGE': 33},\n",
       " 82: {'ID': 'L035',\n",
       "  'NAME': 'SANA SAWANT',\n",
       "  'LOCATION': 'Indore',\n",
       "  'DEPT': 'marketing',\n",
       "  'AGE': 33},\n",
       " 83: {'ID': 'L037',\n",
       "  'NAME': 'RUSHIL SHARMA',\n",
       "  'LOCATION': 'Nagpur',\n",
       "  'DEPT': 'sales',\n",
       "  'AGE': 29},\n",
       " 84: {'ID': 'L038',\n",
       "  'NAME': 'SHIKHA SHARMA',\n",
       "  'LOCATION': 'Nagpur',\n",
       "  'DEPT': 'technology',\n",
       "  'AGE': 36},\n",
       " 85: {'ID': 'L039',\n",
       "  'NAME': 'SOHAM VASUDEO',\n",
       "  'LOCATION': 'Mumbai',\n",
       "  'DEPT': 'technology',\n",
       "  'AGE': 36},\n",
       " 86: {'ID': 'L040',\n",
       "  'NAME': 'RITIKA SHETTY',\n",
       "  'LOCATION': 'Mumbai',\n",
       "  'DEPT': 'marketing',\n",
       "  'AGE': 37},\n",
       " 87: {'ID': 'L041',\n",
       "  'NAME': 'RUSHABH JADHAV',\n",
       "  'LOCATION': 'Pune',\n",
       "  'DEPT': 'production',\n",
       "  'AGE': 49},\n",
       " 88: {'ID': 'L042',\n",
       "  'NAME': 'SAMIKSHA SARDA',\n",
       "  'LOCATION': 'Pune',\n",
       "  'DEPT': 'sales',\n",
       "  'AGE': 33},\n",
       " 89: {'ID': 'L043',\n",
       "  'NAME': 'YASH CHAUDHARI',\n",
       "  'LOCATION': 'Indore',\n",
       "  'DEPT': 'sales',\n",
       "  'AGE': 24}}"
      ]
     },
     "execution_count": 84,
     "metadata": {},
     "output_type": "execute_result"
    }
   ],
   "source": [
    "marter_dict"
   ]
  },
  {
   "cell_type": "code",
   "execution_count": 85,
   "metadata": {},
   "outputs": [
    {
     "name": "stdout",
     "output_type": "stream",
     "text": [
      "ID A001 name HARTEJ SINGH ASSI location Mumbai DEPT sales AGE 23\n",
      "ID A002 name BHAVESH BALDANIYA location Delhi DEPT technology AGE 35\n",
      "ID A003 name YASH BAVISHI location Delhi DEPT production AGE 22\n",
      "ID A004 name SHREEKARA BHAT location Indore DEPT sales AGE 34\n",
      "ID A005 name KUNAL BHATT location Mumbai DEPT technology AGE 31\n",
      "ID A006 name DARRYL CARDOZA location Mumbai DEPT production AGE 26\n",
      "ID A007 name SURESH CHAUDHARY location Delhi DEPT sales AGE 28\n",
      "ID A009 name CHIRAG CHOUDHARY location Pune DEPT sales AGE 40\n",
      "ID A010 name YASH CHOWDHARI location Delhi DEPT technology AGE 45\n",
      "ID A011 name MIHIR DHANGDHARIYA location Mumbai DEPT technology AGE 33\n",
      "ID A012 name SANKET GADGE location Pune DEPT marketing AGE 33\n",
      "ID A013 name ANIKET GAMI location Indore DEPT production AGE 42\n",
      "ID A014 name RAHUL GIMHAVANEKAR location Delhi DEPT production AGE 27\n",
      "ID A015 name ANAMICA GUPTA location Mumbai DEPT sales AGE 27\n",
      "ID A016 name YOSUFF HUSSAIN location Pune DEPT sales AGE 29\n",
      "ID A017 name AGHA AYAAN HYDER location Pune DEPT production AGE 22\n",
      "ID A018 name ISHWAR IYER location Delhi DEPT production AGE 29\n",
      "ID A019 name ATHARVA KADAM location Indore DEPT marketing AGE 28\n",
      "ID A020 name RIYA KADAM location Mumbai DEPT marketing AGE 34\n",
      "ID A021 name KARAN KAMAT location Pune DEPT technology AGE 44\n",
      "ID A022 name RAHAT JAHA KHAN location Mumbai DEPT sales AGE 47\n",
      "ID A024 name HARIKRISHNAN KONGIPARAMBIL location Nagpur DEPT sales AGE 41\n",
      "ID A025 name HARSH KOTHARE location Mumbai DEPT production AGE 36\n",
      "ID A026 name NIDHI MADNANI location Hydrabad DEPT technology AGE 38\n",
      "ID A027 name NETRA MAHADIK location Mumbai DEPT technology AGE 38\n",
      "ID A028 name KUNAL MAHAJAN location Indore DEPT sales AGE 38\n",
      "ID A030 name AZRIEL MENDES location Pune DEPT production AGE 48\n",
      "ID A031 name ADITYA MENON location Hydrabad DEPT production AGE 43\n",
      "ID A032 name ISHANT MISHRA location Indore DEPT marketing AGE 24\n",
      "ID A033 name PARAG MORE location Mumbai DEPT production AGE 24\n",
      "ID A034 name ARCHIT MUNI location Hydrabad DEPT technology AGE 26\n",
      "ID A035 name MOHAMMAD NEDARIYA location Mumbai DEPT marketing AGE 29\n",
      "ID A036 name SUYASH NIGAM location Indore DEPT marketing AGE 29\n",
      "ID A037 name AMEY NIMBALKAR location Pune DEPT marketing AGE 35\n",
      "ID A038 name DHRUMIL OZA location Delhi DEPT technology AGE 36\n",
      "ID A039 name HEMISH PADHIYAR location Delhi DEPT sales AGE 38\n",
      "ID A040 name KRISHNA PALAN location Hydrabad DEPT sales AGE 38\n",
      "ID A042 name PARTH SURVE location Delhi DEPT technology AGE 40\n",
      "ID A043 name YASHUVARDHAN PATEL location Pune DEPT sales AGE 40\n",
      "ID A044 name PRASHANT POOJARY location Mumbai DEPT production AGE 35\n",
      "ID A045 name MUDIT POTDAR location Nagpur DEPT technology AGE 37\n",
      "ID A046 name PRASAD SANGALE location Indore DEPT sales AGE 32\n",
      "ID A047 name PAYAL SANKHLA location Delhi DEPT marketing AGE 31\n",
      "ID A048 name MIHIR SAWANT location Nagpur DEPT marketing AGE 30\n",
      "ID A049 name JAINIL SHAH location Delhi DEPT technology AGE 30\n",
      "ID A050 name NEHA SHAH location Nagpur DEPT production AGE 29\n",
      "ID A052 name AFRAZ SHAIKH location Indore DEPT sales AGE 27\n",
      "ID A053 name HUSSAIN SHAIKH location Nagpur DEPT sales AGE 23\n",
      "ID A054 name ABHISHEK SHARMA location Delhi DEPT marketing AGE 29\n",
      "ID A055 name CHAYAN SHARMA location Pune DEPT technology AGE 36\n",
      "ID A056 name DIVYANG SHETH location Mumbai DEPT marketing AGE 36\n",
      "ID A057 name MADHURAM SHUKLA location Nagpur DEPT marketing AGE 37\n",
      "ID A058 name ANMOL SINHA location Delhi DEPT production AGE 49\n",
      "ID A059 name TUSHAR SINHA location Indore DEPT technology AGE 33\n",
      "ID A061 name KRITI THAKRAR location Mumbai DEPT production AGE 24\n",
      "ID A062 name HARSHIT THAPAR location Nagpur DEPT marketing AGE 35\n",
      "ID A063 name ABHAY TIWARI location Mumbai DEPT sales AGE 33\n",
      "ID A064 name TULSI VAIDYA location Pune DEPT marketing AGE 33\n",
      "ID A065 name SHUBHAM WANI location Indore DEPT technology AGE 38\n",
      "ID A066 name SHAYAN ZAIDI location Mumbai DEPT technology AGE 37\n",
      "ID A067 name NIDHI AGRAWAL location Mumbai DEPT marketing AGE 49\n",
      "ID L002 name OM AGRAWAL location Nagpur DEPT production AGE 30\n",
      "ID L003 name VANSHAJ AJMERA location Nagpur DEPT marketing AGE 30\n",
      "ID L005 name RAHUL BHATT location Mumbai DEPT marketing AGE 29\n",
      "ID L007 name DHRUV CHAUHAN location Mumbai DEPT sales AGE 27\n",
      "ID L008 name ISHA GHATULE location Pune DEPT sales AGE 23\n",
      "ID L011 name ADITYA JAIN location Pune DEPT production AGE 29\n",
      "ID L013 name VEDIKA KHANDELWAL location Mumbai DEPT technology AGE 36\n",
      "ID L014 name ADITYA LAD location Nagpur DEPT marketing AGE 36\n",
      "ID L016 name ANAY MAHESHWARI location Indore DEPT sales AGE 37\n",
      "ID L017 name SANJANA MEHTA location Indore DEPT technology AGE 49\n",
      "ID L019 name RHEA NAIR location Pune DEPT technology AGE 33\n",
      "ID L020 name KAVIT NAVADIA location Mumbai DEPT marketing AGE 24\n",
      "ID L021 name ABHAY PAI location Indore DEPT marketing AGE 35\n",
      "ID L022 name SHUBH PATEL location Pune DEPT sales AGE 33\n",
      "ID L023 name CHAITANYA PATEL location Mumbai DEPT production AGE 33\n",
      "ID L024 name GRASHI PATEL location Mumbai DEPT technology AGE 38\n",
      "ID L027 name SHARDUL PATKI location Mumbai DEPT marketing AGE 37\n",
      "ID L029 name MAYUR PAWAR location Indore DEPT sales AGE 49\n",
      "ID L030 name PRIYANSH PRADHAN location Pune DEPT sales AGE 24\n",
      "ID L033 name VISHALSINH RANA location Pune DEPT production AGE 35\n",
      "ID L034 name SHARMAD SAMANT location Indore DEPT production AGE 33\n",
      "ID L035 name SANA SAWANT location Indore DEPT marketing AGE 33\n",
      "ID L037 name RUSHIL SHARMA location Nagpur DEPT sales AGE 29\n",
      "ID L038 name SHIKHA SHARMA location Nagpur DEPT technology AGE 36\n",
      "ID L039 name SOHAM VASUDEO location Mumbai DEPT technology AGE 36\n",
      "ID L040 name RITIKA SHETTY location Mumbai DEPT marketing AGE 37\n",
      "ID L041 name RUSHABH JADHAV location Pune DEPT production AGE 49\n",
      "ID L042 name SAMIKSHA SARDA location Pune DEPT sales AGE 33\n",
      "ID L043 name YASH CHAUDHARI location Indore DEPT sales AGE 24\n"
     ]
    }
   ],
   "source": [
    "\n",
    "for i in range(len(marter_dict)):\n",
    "    print(\"ID\",marter_dict[i][\"ID\"],\"name\",marter_dict[i][\"NAME\"],\"location\",marter_dict[i][\"LOCATION\"],\"DEPT\",marter_dict[i][\"DEPT\"],\"AGE\",marter_dict[i][\"AGE\"])"
   ]
  },
  {
   "cell_type": "markdown",
   "metadata": {},
   "source": [
    "task 2"
   ]
  },
  {
   "cell_type": "code",
   "execution_count": 86,
   "metadata": {},
   "outputs": [],
   "source": [
    "cri_set = set(df_cric[\"ID\"])\n",
    "hoc_set = set(df_hoc[\"ID\"])\n",
    "voll_set = set(df_voll[\"ID\"])"
   ]
  },
  {
   "cell_type": "code",
   "execution_count": 87,
   "metadata": {},
   "outputs": [],
   "source": [
    "common_id = voll_set.intersection(hoc_set,cri_set)"
   ]
  },
  {
   "cell_type": "code",
   "execution_count": 88,
   "metadata": {},
   "outputs": [
    {
     "data": {
      "text/plain": [
       "{'A005',\n",
       " 'A013',\n",
       " 'A018',\n",
       " 'A026',\n",
       " 'A042',\n",
       " 'A045',\n",
       " 'A048',\n",
       " 'A053',\n",
       " 'A057',\n",
       " 'A062',\n",
       " 'A063',\n",
       " 'L011',\n",
       " 'L040',\n",
       " 'L043'}"
      ]
     },
     "execution_count": 88,
     "metadata": {},
     "output_type": "execute_result"
    }
   ],
   "source": [
    "common_id"
   ]
  },
  {
   "cell_type": "code",
   "execution_count": 89,
   "metadata": {},
   "outputs": [],
   "source": [
    "common_id = list(common_id)"
   ]
  },
  {
   "cell_type": "code",
   "execution_count": 90,
   "metadata": {},
   "outputs": [
    {
     "name": "stdout",
     "output_type": "stream",
     "text": [
      "      ID         NAME LOCATION        DEPT  AGE\n",
      "66  L011  ADITYA JAIN     Pune  production   29\n",
      "      ID             NAME LOCATION       DEPT  AGE\n",
      "51  A057  MADHURAM SHUKLA   Nagpur  marketing   37\n",
      "      ID          NAME LOCATION   DEPT  AGE\n",
      "56  A063  ABHAY TIWARI   Mumbai  sales   33\n",
      "      ID          NAME LOCATION       DEPT  AGE\n",
      "43  A048  MIHIR SAWANT   Nagpur  marketing   30\n",
      "      ID            NAME LOCATION       DEPT  AGE\n",
      "55  A062  HARSHIT THAPAR   Nagpur  marketing   35\n",
      "     ID         NAME LOCATION        DEPT  AGE\n",
      "4  A005  KUNAL BHATT   Mumbai  technology   31\n",
      "      ID           NAME LOCATION       DEPT  AGE\n",
      "86  L040  RITIKA SHETTY   Mumbai  marketing   37\n",
      "      ID         NAME LOCATION        DEPT  AGE\n",
      "16  A018  ISHWAR IYER    Delhi  production   29\n",
      "      ID            NAME LOCATION   DEPT  AGE\n",
      "47  A053  HUSSAIN SHAIKH   Nagpur  sales   23\n",
      "      ID           NAME  LOCATION        DEPT  AGE\n",
      "23  A026  NIDHI MADNANI  Hydrabad  technology   38\n",
      "      ID         NAME LOCATION        DEPT  AGE\n",
      "11  A013  ANIKET GAMI   Indore  production   42\n",
      "      ID          NAME LOCATION        DEPT  AGE\n",
      "40  A045  MUDIT POTDAR   Nagpur  technology   37\n",
      "      ID         NAME LOCATION        DEPT  AGE\n",
      "37  A042  PARTH SURVE    Delhi  technology   40\n",
      "      ID            NAME LOCATION   DEPT  AGE\n",
      "89  L043  YASH CHAUDHARI   Indore  sales   24\n"
     ]
    }
   ],
   "source": [
    "for i in range (len(common_id)):\n",
    "    print(master_df.loc[master_df[\"ID\"] == common_id[i]])"
   ]
  },
  {
   "cell_type": "markdown",
   "metadata": {},
   "source": [
    "task 3"
   ]
  },
  {
   "cell_type": "code",
   "execution_count": 91,
   "metadata": {},
   "outputs": [],
   "source": [
    "differtent_id = voll_set.difference(hoc_set,cri_set)"
   ]
  },
  {
   "cell_type": "code",
   "execution_count": 92,
   "metadata": {},
   "outputs": [
    {
     "data": {
      "text/plain": [
       "{'A024', 'A028', 'A054', 'A067'}"
      ]
     },
     "execution_count": 92,
     "metadata": {},
     "output_type": "execute_result"
    }
   ],
   "source": [
    "differtent_id"
   ]
  },
  {
   "cell_type": "code",
   "execution_count": 93,
   "metadata": {},
   "outputs": [],
   "source": [
    "differtent_id = list(differtent_id)"
   ]
  },
  {
   "cell_type": "code",
   "execution_count": 94,
   "metadata": {},
   "outputs": [
    {
     "name": "stdout",
     "output_type": "stream",
     "text": [
      "               NAME    ID\n",
      "48  ABHISHEK SHARMA  A054\n",
      "             NAME    ID\n",
      "60  NIDHI AGRAWAL  A067\n",
      "             NAME    ID\n",
      "25  KUNAL MAHAJAN  A028\n",
      "                          NAME    ID\n",
      "21  HARIKRISHNAN KONGIPARAMBIL  A024\n"
     ]
    }
   ],
   "source": [
    "for i in range (len(differtent_id)):\n",
    "    print(master_df.loc[master_df[\"ID\"] == differtent_id[i],[\"NAME\",\"ID\"]])"
   ]
  },
  {
   "cell_type": "markdown",
   "metadata": {},
   "source": [
    "task 4"
   ]
  },
  {
   "cell_type": "code",
   "execution_count": 95,
   "metadata": {},
   "outputs": [
    {
     "data": {
      "text/plain": [
       "DEPT\n",
       "sales         15\n",
       "technology    13\n",
       "marketing     10\n",
       "production     9\n",
       "Name: count, dtype: int64"
      ]
     },
     "execution_count": 95,
     "metadata": {},
     "output_type": "execute_result"
    }
   ],
   "source": [
    "\n",
    "no_dep = df_voll[\"DEPT\"].value_counts()\n",
    "no_dep"
   ]
  },
  {
   "cell_type": "code",
   "execution_count": 96,
   "metadata": {},
   "outputs": [
    {
     "data": {
      "text/plain": [
       "DEPT\n",
       "marketing     37\n",
       "production    32\n",
       "sales         47\n",
       "technology    40\n",
       "Name: count, dtype: int64"
      ]
     },
     "execution_count": 96,
     "metadata": {},
     "output_type": "execute_result"
    }
   ],
   "source": [
    "unique_count = df_voll[\"DEPT\"].value_counts()+df_hoc[\"DEPT\"].value_counts()+df_cric[\"DEPT\"].value_counts()\n",
    "unique_count"
   ]
  },
  {
   "cell_type": "code",
   "execution_count": 97,
   "metadata": {},
   "outputs": [
    {
     "data": {
      "text/plain": [
       "47"
      ]
     },
     "execution_count": 97,
     "metadata": {},
     "output_type": "execute_result"
    }
   ],
   "source": [
    "abc = max(unique_count)\n",
    "abc"
   ]
  },
  {
   "cell_type": "markdown",
   "metadata": {},
   "source": [
    "task 5"
   ]
  },
  {
   "cell_type": "code",
   "execution_count": 98,
   "metadata": {},
   "outputs": [
    {
     "name": "stdout",
     "output_type": "stream",
     "text": [
      "      ID         NAME LOCATION        DEPT  AGE\n",
      "66  L011  ADITYA JAIN     Pune  production   29\n",
      "      ID             NAME LOCATION       DEPT  AGE\n",
      "51  A057  MADHURAM SHUKLA   Nagpur  marketing   37\n",
      "      ID          NAME LOCATION   DEPT  AGE\n",
      "56  A063  ABHAY TIWARI   Mumbai  sales   33\n",
      "      ID          NAME LOCATION       DEPT  AGE\n",
      "43  A048  MIHIR SAWANT   Nagpur  marketing   30\n",
      "      ID            NAME LOCATION       DEPT  AGE\n",
      "55  A062  HARSHIT THAPAR   Nagpur  marketing   35\n",
      "     ID         NAME LOCATION        DEPT  AGE\n",
      "4  A005  KUNAL BHATT   Mumbai  technology   31\n",
      "      ID           NAME LOCATION       DEPT  AGE\n",
      "86  L040  RITIKA SHETTY   Mumbai  marketing   37\n",
      "      ID         NAME LOCATION        DEPT  AGE\n",
      "16  A018  ISHWAR IYER    Delhi  production   29\n",
      "      ID            NAME LOCATION   DEPT  AGE\n",
      "47  A053  HUSSAIN SHAIKH   Nagpur  sales   23\n",
      "      ID           NAME  LOCATION        DEPT  AGE\n",
      "23  A026  NIDHI MADNANI  Hydrabad  technology   38\n",
      "      ID         NAME LOCATION        DEPT  AGE\n",
      "11  A013  ANIKET GAMI   Indore  production   42\n",
      "      ID          NAME LOCATION        DEPT  AGE\n",
      "40  A045  MUDIT POTDAR   Nagpur  technology   37\n",
      "      ID         NAME LOCATION        DEPT  AGE\n",
      "37  A042  PARTH SURVE    Delhi  technology   40\n",
      "      ID            NAME LOCATION   DEPT  AGE\n",
      "89  L043  YASH CHAUDHARI   Indore  sales   24\n",
      "minimum age is  23\n",
      "max age is 42\n"
     ]
    }
   ],
   "source": [
    "cri_set = set(df_cric[\"ID\"])\n",
    "hoc_set = set(df_hoc[\"ID\"])\n",
    "voll_set = set(df_voll[\"ID\"])\n",
    "\n",
    "common_id = voll_set.intersection(hoc_set,cri_set)\n",
    "\n",
    "\n",
    "common_id = list(common_id)\n",
    "\n",
    "\n",
    "for i in range (len(common_id)):\n",
    "    print(master_df.loc[master_df[\"ID\"] == common_id[i]])\n",
    "    \n",
    "common_df = master_df[master_df[\"ID\"].isin(common_id)]\n",
    "\n",
    "min_age = common_df[\"AGE\"].min()\n",
    "max_age = common_df[\"AGE\"].max()\n",
    "\n",
    "\n",
    "print(\"minimum age is \",min_age)\n",
    "print(\"max age is\",max_age)\n",
    "    \n",
    "\n",
    "    \n"
   ]
  },
  {
   "cell_type": "markdown",
   "metadata": {},
   "source": [
    "task 6"
   ]
  },
  {
   "cell_type": "code",
   "execution_count": 99,
   "metadata": {},
   "outputs": [
    {
     "data": {
      "text/plain": [
       "'Pune'"
      ]
     },
     "execution_count": 99,
     "metadata": {},
     "output_type": "execute_result"
    }
   ],
   "source": [
    "\n",
    "max_partcipation_master = master_df[\"LOCATION\"].max()\n",
    "max_partcipation"
   ]
  },
  {
   "cell_type": "code",
   "execution_count": 100,
   "metadata": {},
   "outputs": [
    {
     "data": {
      "text/plain": [
       "'Pune'"
      ]
     },
     "execution_count": 100,
     "metadata": {},
     "output_type": "execute_result"
    }
   ],
   "source": [
    "max__partcipation_cric = df_cric[\"LOCATION\"].max()\n",
    "max__partcipation_cric"
   ]
  },
  {
   "cell_type": "code",
   "execution_count": 101,
   "metadata": {},
   "outputs": [
    {
     "data": {
      "text/plain": [
       "'Pune'"
      ]
     },
     "execution_count": 101,
     "metadata": {},
     "output_type": "execute_result"
    }
   ],
   "source": [
    "max__partcipation_voll = df_voll[\"LOCATION\"].max()\n",
    "max__partcipation_voll"
   ]
  },
  {
   "cell_type": "code",
   "execution_count": 102,
   "metadata": {},
   "outputs": [
    {
     "data": {
      "text/plain": [
       "'Pune'"
      ]
     },
     "execution_count": 102,
     "metadata": {},
     "output_type": "execute_result"
    }
   ],
   "source": [
    "max__partcipation_hoc = df_hoc[\"LOCATION\"].max()\n",
    "max__partcipation_hoc"
   ]
  },
  {
   "cell_type": "markdown",
   "metadata": {},
   "source": [
    "task 7"
   ]
  },
  {
   "cell_type": "code",
   "execution_count": 103,
   "metadata": {},
   "outputs": [
    {
     "name": "stdout",
     "output_type": "stream",
     "text": [
      "ID                 A005\n",
      "NAME        KUNAL BHATT\n",
      "LOCATION         Mumbai\n",
      "DEPT         technology\n",
      "AGE                  31\n",
      "Name: 4, dtype: object\n",
      "\n",
      "ID                  A063\n",
      "NAME        ABHAY TIWARI\n",
      "LOCATION          Mumbai\n",
      "DEPT               sales\n",
      "AGE                   33\n",
      "Name: 56, dtype: object\n",
      "\n",
      "ID                   L040\n",
      "NAME        RITIKA SHETTY\n",
      "LOCATION           Mumbai\n",
      "DEPT            marketing\n",
      "AGE                    37\n",
      "Name: 86, dtype: object\n",
      "\n"
     ]
    }
   ],
   "source": [
    "cri_set = set(df_cric[\"ID\"])\n",
    "hoc_set = set(df_hoc[\"ID\"])\n",
    "voll_set = set(df_voll[\"ID\"])\n",
    "\n",
    "common_id = voll_set.intersection(hoc_set,cri_set)\n",
    "\n",
    "\n",
    "common_id = list(common_id)\n",
    "\n",
    "\n",
    "\n",
    "mumbai_df = common_df[common_df[\"LOCATION\"] == \"Mumbai\"]\n",
    "\n",
    "for i in range(len(mumbai_df)):\n",
    "    print(mumbai_df.iloc[i])\n",
    "    print()"
   ]
  },
  {
   "cell_type": "markdown",
   "metadata": {},
   "source": [
    "task 8 (master data)"
   ]
  },
  {
   "cell_type": "code",
   "execution_count": 104,
   "metadata": {},
   "outputs": [
    {
     "data": {
      "text/html": [
       "<div>\n",
       "<style scoped>\n",
       "    .dataframe tbody tr th:only-of-type {\n",
       "        vertical-align: middle;\n",
       "    }\n",
       "\n",
       "    .dataframe tbody tr th {\n",
       "        vertical-align: top;\n",
       "    }\n",
       "\n",
       "    .dataframe thead th {\n",
       "        text-align: right;\n",
       "    }\n",
       "</style>\n",
       "<table border=\"1\" class=\"dataframe\">\n",
       "  <thead>\n",
       "    <tr style=\"text-align: right;\">\n",
       "      <th></th>\n",
       "      <th>ID</th>\n",
       "      <th>NAME</th>\n",
       "      <th>LOCATION</th>\n",
       "      <th>DEPT</th>\n",
       "      <th>AGE</th>\n",
       "    </tr>\n",
       "  </thead>\n",
       "  <tbody>\n",
       "  </tbody>\n",
       "</table>\n",
       "</div>"
      ],
      "text/plain": [
       "Empty DataFrame\n",
       "Columns: [ID, NAME, LOCATION, DEPT, AGE]\n",
       "Index: []"
      ]
     },
     "execution_count": 104,
     "metadata": {},
     "output_type": "execute_result"
    }
   ],
   "source": [
    "cri_set = set(df_cric[\"ID\"])\n",
    "mater_set = set(master_df[\"ID\"])\n",
    "\n",
    "common_id = mater_set.intersection(cri_set)\n",
    "\n",
    "\n",
    "common_id = list(common_id)\n",
    "\n",
    "\n",
    "Cricket_playing = common_df[common_df[\"LOCATION\"] == \"PUNE\"]\n",
    "Cricket_playing\n"
   ]
  },
  {
   "cell_type": "markdown",
   "metadata": {},
   "source": [
    "task 8 (only cricket df)"
   ]
  },
  {
   "cell_type": "code",
   "execution_count": 105,
   "metadata": {},
   "outputs": [
    {
     "name": "stdout",
     "output_type": "stream",
     "text": [
      "                NAME  AGE\n",
      "4   CHIRAG CHOUDHARY   40\n",
      "6       SANKET GADGE   33\n",
      "9     YOSUFF HUSSAIN   29\n",
      "10  AGHA AYAAN HYDER   22\n",
      "13       KARAN KAMAT   44\n",
      "15     AZRIEL MENDES   48\n",
      "21    AMEY NIMBALKAR   35\n",
      "37      TULSI VAIDYA   33\n",
      "41      ISHA GHATULE   23\n",
      "42       ADITYA JAIN   29\n",
      "45         RHEA NAIR   33\n",
      "47       SHUBH PATEL   33\n",
      "56    RUSHABH JADHAV   49\n",
      "57    SAMIKSHA SARDA   33\n"
     ]
    }
   ],
   "source": [
    "pune_cric_df = df_cric[df_cric[\"LOCATION\"] == \"Pune\"]\n",
    "\n",
    "pune_cric_df = pune_cric_df[[\"NAME\", \"AGE\"]]\n",
    "print(pune_cric_df)"
   ]
  }
 ],
 "metadata": {
  "kernelspec": {
   "display_name": "Python 3",
   "language": "python",
   "name": "python3"
  },
  "language_info": {
   "codemirror_mode": {
    "name": "ipython",
    "version": 3
   },
   "file_extension": ".py",
   "mimetype": "text/x-python",
   "name": "python",
   "nbconvert_exporter": "python",
   "pygments_lexer": "ipython3",
   "version": "3.8.10"
  }
 },
 "nbformat": 4,
 "nbformat_minor": 4
}
